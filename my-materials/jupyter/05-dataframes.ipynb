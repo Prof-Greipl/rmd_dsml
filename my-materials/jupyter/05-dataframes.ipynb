{
 "cells": [
  {
   "cell_type": "markdown",
   "metadata": {},
   "source": [
    "# Beispiel"
   ]
  },
  {
   "cell_type": "code",
   "execution_count": 1,
   "metadata": {},
   "outputs": [
    {
     "ename": "ModuleNotFoundError",
     "evalue": "No module named 'pandas'",
     "output_type": "error",
     "traceback": [
      "\u001b[1;31m---------------------------------------------------------------------------\u001b[0m",
      "\u001b[1;31mModuleNotFoundError\u001b[0m                       Traceback (most recent call last)",
      "\u001b[1;32mc:\\Users\\diete\\OneDrive - Fachhochschule Landshut\\05 GitHub-Pages-Publish\\bookdown\\dsml\\my-materials\\jupyter\\dataframes.ipynb Cell 2'\u001b[0m in \u001b[0;36m<cell line: 1>\u001b[1;34m()\u001b[0m\n\u001b[1;32m----> <a href='vscode-notebook-cell:/c%3A/Users/diete/OneDrive%20-%20Fachhochschule%20Landshut/05%20GitHub-Pages-Publish/bookdown/dsml/my-materials/jupyter/dataframes.ipynb#ch0000001?line=0'>1</a>\u001b[0m \u001b[39mimport\u001b[39;00m \u001b[39mpandas\u001b[39;00m \u001b[39mas\u001b[39;00m \u001b[39mpd\u001b[39;00m\n\u001b[0;32m      <a href='vscode-notebook-cell:/c%3A/Users/diete/OneDrive%20-%20Fachhochschule%20Landshut/05%20GitHub-Pages-Publish/bookdown/dsml/my-materials/jupyter/dataframes.ipynb#ch0000001?line=1'>2</a>\u001b[0m df \u001b[39m=\u001b[39m pd\u001b[39m.\u001b[39mDataFrame({\n\u001b[0;32m      <a href='vscode-notebook-cell:/c%3A/Users/diete/OneDrive%20-%20Fachhochschule%20Landshut/05%20GitHub-Pages-Publish/bookdown/dsml/my-materials/jupyter/dataframes.ipynb#ch0000001?line=2'>3</a>\u001b[0m    \u001b[39m\"\u001b[39m\u001b[39mName\u001b[39m\u001b[39m\"\u001b[39m: [\u001b[39m\"\u001b[39m\u001b[39mBraund, Mr. Owen Harris\u001b[39m\u001b[39m\"\u001b[39m,\n\u001b[0;32m      <a href='vscode-notebook-cell:/c%3A/Users/diete/OneDrive%20-%20Fachhochschule%20Landshut/05%20GitHub-Pages-Publish/bookdown/dsml/my-materials/jupyter/dataframes.ipynb#ch0000001?line=3'>4</a>\u001b[0m             \u001b[39m\"\u001b[39m\u001b[39mAllen, Mr. William Henry\u001b[39m\u001b[39m\"\u001b[39m,\n\u001b[1;32m   (...)\u001b[0m\n\u001b[0;32m      <a href='vscode-notebook-cell:/c%3A/Users/diete/OneDrive%20-%20Fachhochschule%20Landshut/05%20GitHub-Pages-Publish/bookdown/dsml/my-materials/jupyter/dataframes.ipynb#ch0000001?line=7'>8</a>\u001b[0m    \u001b[39m\"\u001b[39m\u001b[39mGender\u001b[39m\u001b[39m\"\u001b[39m: [\u001b[39m\"\u001b[39m\u001b[39mmale\u001b[39m\u001b[39m\"\u001b[39m, \u001b[39m\"\u001b[39m\u001b[39mmale\u001b[39m\u001b[39m\"\u001b[39m, \u001b[39m\"\u001b[39m\u001b[39mfemale\u001b[39m\u001b[39m\"\u001b[39m, \u001b[39m\"\u001b[39m\u001b[39mfemale\u001b[39m\u001b[39m\"\u001b[39m]}\n\u001b[0;32m      <a href='vscode-notebook-cell:/c%3A/Users/diete/OneDrive%20-%20Fachhochschule%20Landshut/05%20GitHub-Pages-Publish/bookdown/dsml/my-materials/jupyter/dataframes.ipynb#ch0000001?line=8'>9</a>\u001b[0m   )\n\u001b[0;32m     <a href='vscode-notebook-cell:/c%3A/Users/diete/OneDrive%20-%20Fachhochschule%20Landshut/05%20GitHub-Pages-Publish/bookdown/dsml/my-materials/jupyter/dataframes.ipynb#ch0000001?line=10'>11</a>\u001b[0m \u001b[39m# Dataframe-Informationen ausgeben\u001b[39;00m\n",
      "\u001b[1;31mModuleNotFoundError\u001b[0m: No module named 'pandas'"
     ]
    }
   ],
   "source": [
    "import pandas as pd\n",
    "df = pd.DataFrame({\n",
    "   \"Name\": [\"Braund, Mr. Owen Harris\",\n",
    "            \"Allen, Mr. William Henry\",\n",
    "          \"Bonnell, Miss. Elizabeth\",\n",
    "          \"Petty, Tom\"],\n",
    "    \"Age\": [22, 62, 58, 26],\n",
    "   \"Gender\": [\"male\", \"male\", \"female\", \"female\"]}\n",
    "  )\n",
    "\n",
    "# Dataframe-Informationen ausgeben\n",
    "print( \"\\n -------- Data\")\n",
    "print( df )\n",
    "print( \"\\n -------- Head\")\n",
    "print( df.head(2) )\n",
    "print( \"\\n -------- Tail\")\n",
    "print( df.tail(1) )\n",
    "print( \"Anzahl der Zeilen : \", len(df))\n",
    "print( \"Shape             : \", df.shape)\n",
    "print( \"Columns :\" )\n",
    "print( df.columns )\n",
    "print( \"Index :\" )\n",
    "print( df.index )\n",
    "\n"
   ]
  },
  {
   "cell_type": "markdown",
   "metadata": {},
   "source": [
    "# Überblick verschaffen"
   ]
  },
  {
   "cell_type": "code",
   "execution_count": 11,
   "metadata": {},
   "outputs": [
    {
     "name": "stdout",
     "output_type": "stream",
     "text": [
      "\n",
      " Head:\n",
      "                       Name  Age Gender\n",
      "0   Braund, Mr. Owen Harris   22   male\n",
      "1  Allen, Mr. William Henry   62   male\n",
      "\n",
      " Tail:\n",
      "         Name  Age  Gender\n",
      "3  Petty, Tom   26  female\n",
      "Anzahl der Zeilen :  4\n",
      "Shape             :  (4, 3)\n"
     ]
    },
    {
     "data": {
      "text/html": [
       "<div>\n",
       "<style scoped>\n",
       "    .dataframe tbody tr th:only-of-type {\n",
       "        vertical-align: middle;\n",
       "    }\n",
       "\n",
       "    .dataframe tbody tr th {\n",
       "        vertical-align: top;\n",
       "    }\n",
       "\n",
       "    .dataframe thead th {\n",
       "        text-align: right;\n",
       "    }\n",
       "</style>\n",
       "<table border=\"1\" class=\"dataframe\">\n",
       "  <thead>\n",
       "    <tr style=\"text-align: right;\">\n",
       "      <th></th>\n",
       "      <th>Age</th>\n",
       "    </tr>\n",
       "  </thead>\n",
       "  <tbody>\n",
       "    <tr>\n",
       "      <th>count</th>\n",
       "      <td>4.000000</td>\n",
       "    </tr>\n",
       "    <tr>\n",
       "      <th>mean</th>\n",
       "      <td>42.000000</td>\n",
       "    </tr>\n",
       "    <tr>\n",
       "      <th>std</th>\n",
       "      <td>20.912516</td>\n",
       "    </tr>\n",
       "    <tr>\n",
       "      <th>min</th>\n",
       "      <td>22.000000</td>\n",
       "    </tr>\n",
       "    <tr>\n",
       "      <th>25%</th>\n",
       "      <td>25.000000</td>\n",
       "    </tr>\n",
       "    <tr>\n",
       "      <th>50%</th>\n",
       "      <td>42.000000</td>\n",
       "    </tr>\n",
       "    <tr>\n",
       "      <th>75%</th>\n",
       "      <td>59.000000</td>\n",
       "    </tr>\n",
       "    <tr>\n",
       "      <th>max</th>\n",
       "      <td>62.000000</td>\n",
       "    </tr>\n",
       "  </tbody>\n",
       "</table>\n",
       "</div>"
      ],
      "text/plain": [
       "             Age\n",
       "count   4.000000\n",
       "mean   42.000000\n",
       "std    20.912516\n",
       "min    22.000000\n",
       "25%    25.000000\n",
       "50%    42.000000\n",
       "75%    59.000000\n",
       "max    62.000000"
      ]
     },
     "execution_count": 11,
     "metadata": {},
     "output_type": "execute_result"
    }
   ],
   "source": [
    "import pandas as pd\n",
    "df = pd.DataFrame({\n",
    "   \"Name\": [\"Braund, Mr. Owen Harris\",\n",
    "            \"Allen, Mr. William Henry\",\n",
    "          \"Bonnell, Miss. Elizabeth\",\n",
    "          \"Petty, Tom\"],\n",
    "    \"Age\": [22, 62, 58, 26],\n",
    "   \"Gender\": [\"male\", \"male\", \"female\", \"female\"]}\n",
    "  )\n",
    "\n",
    "print( \"\\n Head:\")\n",
    "print( df.head(2) )\n",
    "\n",
    "print( \"\\n Tail:\")\n",
    "print( df.tail(1) )\n",
    "\n",
    "print( \"Anzahl der Zeilen : \", len(df))\n",
    "print( \"Shape             : \", df.shape)\n",
    "df.describe()"
   ]
  },
  {
   "cell_type": "code",
   "execution_count": 14,
   "metadata": {},
   "outputs": [
    {
     "name": "stdout",
     "output_type": "stream",
     "text": [
      "   Age  Gender\n",
      "0   22    male\n",
      "1   62    male\n",
      "2   58  female\n",
      "3   26  female\n"
     ]
    }
   ],
   "source": [
    "import pandas as pd\n",
    "df = pd.DataFrame({\n",
    "   \"Name\": [\"Braund, Mr. Owen Harris\",\n",
    "            \"Allen, Mr. William Henry\",\n",
    "          \"Bonnell, Miss. Elizabeth\",\n",
    "          \"Petty, Tom\"],\n",
    "    \"Age\": [22, 62, 58, 26],\n",
    "   \"Gender\": [\"male\", \"male\", \"female\", \"female\"]}\n",
    "  )\n",
    "\n",
    "teil_df = df[[\"Age\", \"Gender\"]]\n",
    "print ( teil_df )"
   ]
  },
  {
   "cell_type": "markdown",
   "metadata": {},
   "source": [
    "# Spalte auswählen"
   ]
  },
  {
   "cell_type": "code",
   "execution_count": 18,
   "metadata": {},
   "outputs": [
    {
     "name": "stdout",
     "output_type": "stream",
     "text": [
      "0    22\n",
      "1    62\n",
      "2    58\n",
      "3    26\n",
      "Name: Age, dtype: int64\n",
      "<class 'pandas.core.series.Series'>\n"
     ]
    }
   ],
   "source": [
    "import pandas as pd\n",
    "df = pd.DataFrame({\n",
    "   \"Name\": [\"Braund, Mr. Owen Harris\",\n",
    "            \"Allen, Mr. William Henry\",\n",
    "          \"Bonnell, Miss. Elizabeth\",\n",
    "          \"Petty, Tom\"],\n",
    "    \"Age\": [22, 62, 58, 26],\n",
    "   \"Gender\": [\"male\", \"male\", \"female\", \"female\"]}\n",
    "  )\n",
    "\n",
    "spalte = df[\"Age\"]\n",
    "print ( spalte)\n",
    "print( type( spalte ) )"
   ]
  },
  {
   "cell_type": "markdown",
   "metadata": {},
   "source": [
    "# Teil-Dataframe erzeugen"
   ]
  },
  {
   "cell_type": "code",
   "execution_count": 1,
   "metadata": {},
   "outputs": [
    {
     "name": "stdout",
     "output_type": "stream",
     "text": [
      "   Age  Gender\n",
      "0   22    male\n",
      "1   62    male\n",
      "2   58  female\n",
      "3   26  female\n",
      "<class 'pandas.core.frame.DataFrame'>\n"
     ]
    }
   ],
   "source": [
    "import pandas as pd\n",
    "df = pd.DataFrame({\n",
    "   \"Name\": [\"Braund, Mr. Owen Harris\",\n",
    "            \"Allen, Mr. William Henry\",\n",
    "          \"Bonnell, Miss. Elizabeth\",\n",
    "          \"Petty, Tom\"],\n",
    "    \"Age\": [22, 62, 58, 26],\n",
    "   \"Gender\": [\"male\", \"male\", \"female\", \"female\"]}\n",
    "  )\n",
    "\n",
    "df_teil = df[ [\"Age\", \"Gender\"] ]# <--\n",
    "print ( df_teil )\n",
    "print( type( df_teil ) )"
   ]
  },
  {
   "cell_type": "markdown",
   "metadata": {},
   "source": [
    "# Unique Values"
   ]
  },
  {
   "cell_type": "code",
   "execution_count": 3,
   "metadata": {},
   "outputs": [
    {
     "name": "stdout",
     "output_type": "stream",
     "text": [
      "Name      4\n",
      "Age       4\n",
      "Gender    2\n",
      "dtype: int64\n",
      "<class 'pandas.core.series.Series'>\n"
     ]
    }
   ],
   "source": [
    "\n",
    "print( df.nunique() )\n",
    "print( type (df.nunique() ) )"
   ]
  },
  {
   "cell_type": "markdown",
   "metadata": {},
   "source": [
    "# df -> numpy"
   ]
  },
  {
   "cell_type": "code",
   "execution_count": 21,
   "metadata": {},
   "outputs": [
    {
     "name": "stdout",
     "output_type": "stream",
     "text": [
      "[22 62 58 26]\n",
      "Type  :  <class 'numpy.ndarray'>\n",
      "Shape :  (4,)\n"
     ]
    }
   ],
   "source": [
    "import pandas as pd\n",
    "df = pd.DataFrame({\n",
    "   \"Name\": [\"Braund, Mr. Owen Harris\",\n",
    "            \"Allen, Mr. William Henry\",\n",
    "          \"Bonnell, Miss. Elizabeth\",\n",
    "          \"Petty, Tom\"],\n",
    "    \"Age\": [22, 62, 58, 26],\n",
    "   \"Gender\": [\"male\", \"male\", \"female\", \"female\"]}\n",
    "  )\n",
    "\n",
    "arr = df.to_numpy() # geht auch mit Series!\n",
    "print( arr )\n",
    "print(\"Type  : \", type(arr))\n",
    "print(\"Shape : \", arr.shape)"
   ]
  },
  {
   "cell_type": "markdown",
   "metadata": {},
   "source": [
    "# Spaltennumane ändern"
   ]
  },
  {
   "cell_type": "code",
   "execution_count": 5,
   "metadata": {},
   "outputs": [
    {
     "name": "stdout",
     "output_type": "stream",
     "text": [
      "                       Name  Age  Gender\n",
      "0   Braund, Mr. Owen Harris   22    male\n",
      "1  Allen, Mr. William Henry   62    male\n",
      "2  Bonnell, Miss. Elizabeth   58  female\n",
      " \n",
      "Nach Änderung : \n",
      "                   Nachname  Alter Geschlecht\n",
      "0   Braund, Mr. Owen Harris     22       male\n",
      "1  Allen, Mr. William Henry     62       male\n",
      "2  Bonnell, Miss. Elizabeth     58     female\n"
     ]
    }
   ],
   "source": [
    "import pandas as pd\n",
    "df = pd.DataFrame({\n",
    "   \"Name\": [\"Braund, Mr. Owen Harris\",\n",
    "            \"Allen, Mr. William Henry\",\n",
    "          \"Bonnell, Miss. Elizabeth\",\n",
    "          \"Petty, Tom\"],\n",
    "    \"Age\": [22, 62, 58, 26],\n",
    "   \"Gender\": [\"male\", \"male\", \"female\", \"female\"]}\n",
    "  )\n",
    "\n",
    "print( df.head(3) )\n",
    "\n",
    "df.columns=[\"Nachname\", \"Alter\", \"Geschlecht\"]  # <-- Änderung\n",
    "print(\" \\nNach Änderung : \")\n",
    "print( df.head(3) )"
   ]
  },
  {
   "cell_type": "markdown",
   "metadata": {},
   "source": [
    "# Filtern"
   ]
  },
  {
   "cell_type": "code",
   "execution_count": 2,
   "metadata": {},
   "outputs": [
    {
     "name": "stdout",
     "output_type": "stream",
     "text": [
      "                       Name  Age  Gender\n",
      "2  Bonnell, Miss. Elizabeth   58  female\n",
      "3                Petty, Tom   26  female\n"
     ]
    }
   ],
   "source": [
    "import pandas as pd\n",
    "df = pd.DataFrame({\n",
    "   \"Name\": [\"Braund, Mr. Owen Harris\",\n",
    "            \"Allen, Mr. William Henry\",\n",
    "          \"Bonnell, Miss. Elizabeth\",\n",
    "          \"Petty, Tom\"],\n",
    "    \"Age\": [22, 62, 58, 26],\n",
    "   \"Gender\": [\"male\", \"male\", \"female\", \"female\"]}\n",
    "  )\n",
    "filter = (df[\"Gender\"] == \"female\")\n",
    "df_female = df[filter]\n",
    "print( df_female )"
   ]
  },
  {
   "cell_type": "markdown",
   "metadata": {},
   "source": [
    "# Gruppieren"
   ]
  },
  {
   "cell_type": "code",
   "execution_count": 4,
   "metadata": {},
   "outputs": [
    {
     "name": "stdout",
     "output_type": "stream",
     "text": [
      "\n",
      "\n",
      " Guppierung:\n",
      "\n",
      "\n",
      " count:\n",
      "        Name  Age\n",
      "Gender           \n",
      "female     2    2\n",
      "male       2    2\n",
      "\n",
      "\n",
      " mean:\n",
      "         Age\n",
      "Gender      \n",
      "female  42.0\n",
      "male    42.0\n",
      "\n",
      "\n",
      " min:\n",
      "                            Name  Age\n",
      "Gender                               \n",
      "female  Bonnell, Miss. Elizabeth   26\n",
      "male    Allen, Mr. William Henry   22\n",
      "\n",
      "\n",
      " max:\n",
      "                           Name  Age\n",
      "Gender                              \n",
      "female               Petty, Tom   58\n",
      "male    Braund, Mr. Owen Harris   62\n",
      "\n",
      "\n",
      " median:\n",
      "         Age\n",
      "Gender      \n",
      "female  42.0\n",
      "male    42.0\n",
      "male      2\n",
      "female    2\n",
      "Name: Gender, dtype: int64\n"
     ]
    }
   ],
   "source": [
    "import pandas as pd\n",
    "df = pd.DataFrame({\n",
    "   \"Name\": [\"Braund, Mr. Owen Harris\",\n",
    "            \"Allen, Mr. William Henry\",\n",
    "          \"Bonnell, Miss. Elizabeth\",\n",
    "          \"Petty, Tom\"],\n",
    "    \"Age\": [22, 62, 58, 26],\n",
    "   \"Gender\": [\"male\", \"male\", \"female\", \"female\"]}\n",
    "  )\n",
    "\n",
    "print(\"\\n\\n Guppierung:\")\n",
    "grouping = df.groupby(['Gender'])\n",
    "\n",
    "print(\"\\n\\n count:\")\n",
    "print (grouping.count())\n",
    "\n",
    "print(\"\\n\\n mean:\")\n",
    "print (grouping.mean())\n",
    "\n",
    "print(\"\\n\\n min:\")\n",
    "print (grouping.min())\n",
    "\n",
    "print(\"\\n\\n max:\")\n",
    "print (grouping.max())\n",
    "\n",
    "print(\"\\n\\n median:\")\n",
    "print (grouping.median())\n",
    "\n"
   ]
  }
 ],
 "metadata": {
  "interpreter": {
   "hash": "81794d4967e6c3204c66dcd87b604927b115b27c00565d3d43f05ba2f3a2cb0d"
  },
  "kernelspec": {
   "display_name": "Python 3.9.6 64-bit",
   "language": "python",
   "name": "python3"
  },
  "language_info": {
   "codemirror_mode": {
    "name": "ipython",
    "version": 3
   },
   "file_extension": ".py",
   "mimetype": "text/x-python",
   "name": "python",
   "nbconvert_exporter": "python",
   "pygments_lexer": "ipython3",
   "version": "3.9.6"
  },
  "orig_nbformat": 4
 },
 "nbformat": 4,
 "nbformat_minor": 2
}
