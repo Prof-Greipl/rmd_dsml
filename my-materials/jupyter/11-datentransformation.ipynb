{
 "cells": [
  {
   "cell_type": "markdown",
   "metadata": {},
   "source": [
    "# Feature-Scaling"
   ]
  },
  {
   "cell_type": "code",
   "execution_count": 2,
   "metadata": {},
   "outputs": [
    {
     "data": {
      "image/png": "[encoded data removed]",
      "text/plain": [
       "<Figure size 1152x504 with 2 Axes>"
      ]
     },
     "metadata": {},
     "output_type": "display_data"
    }
   ],
   "source": [
    "import numpy as np\n",
    "import matplotlib.pyplot as plt\n",
    "\n",
    "N = 100\n",
    "x1 = np.random.normal(5000, 2000, N)\n",
    "x2 = np.random.normal(100, 20, N)\n",
    "plt.style.use('seaborn')\n",
    "fig, ax = plt.subplots(1,2, figsize=(16,7))\n",
    "plt.subplots_adjust(left=0.1,\n",
    "                    bottom=0.1, \n",
    "                    right=0.9, \n",
    "                    top=0.9, \n",
    "                    wspace=0.0, \n",
    "                    hspace=0.1)\n",
    "\n",
    "#fig.tight_layout()\n",
    "ax[0].set_xlim(0,10000)\n",
    "ax[0].set_ylim(0,10000)\n",
    "ax[0].set_aspect('equal')\n",
    "ax[0].set_xlabel('x1')\n",
    "ax[0].set_ylabel('x2')\n",
    "ax[0].set_title('Features (unskaliert)')\n",
    "ax[0].scatter(x1, x2, marker='+', color='black')\n",
    "ax[1].set_xlim(0,1.02)\n",
    "ax[1].set_ylim(0,1.02)\n",
    "ax[1].set_aspect('equal')\n",
    "ax[1].set_xlabel('x1')\n",
    "ax[1].set_ylabel('x2')\n",
    "ax[1].set_title('Features (skaliert)')\n",
    "ax[1].scatter((x1 - x1.min())/(x1.max()-x1.min()), (x2 - x2.min())/(x2.max()-x2.min()), marker='+', color='black')\n",
    "\n",
    "plt.savefig('created-images\\\\11-feature-skalierung.png')\n",
    "plt.show()\n",
    "#print(f\"x1-min/mean/x1_max = {x1.min()} / {x1.mean()}/ {x1.max()}\")\n",
    "#print(f\"x2-min/mean/x2_max = {x2.min()} / {x2.mean()} / {x2.max()}\")"
   ]
  },
  {
   "cell_type": "markdown",
   "metadata": {},
   "source": [
    "# Feature Binning"
   ]
  },
  {
   "cell_type": "code",
   "execution_count": 11,
   "metadata": {},
   "outputs": [
    {
     "name": "stdout",
     "output_type": "stream",
     "text": [
      "[array([ 0. ,  2.5,  5. ,  7.5, 10. ])]\n",
      "[[0.]\n",
      " [0.]\n",
      " [2.]\n",
      " [1.]\n",
      " [1.]\n",
      " [2.]\n",
      " [2.]\n",
      " [2.]\n",
      " [3.]\n",
      " [3.]\n",
      " [3.]]\n"
     ]
    }
   ],
   "source": [
    "from sklearn.preprocessing import KBinsDiscretizer\n",
    "import numpy as np\n",
    "\n",
    "# y muss eine Spaltenform haben, also shape [n,1]\n",
    "y = np.array([[0],[1],[6],[3],[4],[5],[6],[7],[8],[9],[10]])\n",
    "\n",
    "est = KBinsDiscretizer(n_bins=4, encode='ordinal', strategy='uniform')\n",
    "est.fit(y)\n",
    "\n",
    "print( est.bin_edges_)\n",
    "yt = est.transform( y )\n",
    "print(yt)"
   ]
  },
  {
   "cell_type": "markdown",
   "metadata": {},
   "source": [
    "One-Hot-Encoding"
   ]
  },
  {
   "cell_type": "markdown",
   "metadata": {},
   "source": [
    "## Ein Feature"
   ]
  },
  {
   "cell_type": "code",
   "execution_count": 33,
   "metadata": {},
   "outputs": [
    {
     "name": "stdout",
     "output_type": "stream",
     "text": [
      "\n",
      "Shape von der Daten: \n",
      " (4, 1)\n",
      "\n",
      "Kategorien         : \n",
      " [array(['setosa', 'versicolor', 'virginica'], dtype='<U10')]\n",
      "\n",
      "One-Hot-Encoding von ['virginica'] : \n",
      " [[0. 0. 1.]\n",
      " [1. 0. 0.]\n",
      " [0. 1. 0.]\n",
      " [0. 0. 1.]]\n"
     ]
    }
   ],
   "source": [
    "from sklearn.preprocessing import OneHotEncoder\n",
    "\n",
    "y = np.array([  [\"virginica\"], \n",
    "                [\"setosa\"], \n",
    "                [\"versicolor\"], \n",
    "                [\"virginica\"]\n",
    "            ])\n",
    "\n",
    "enc = OneHotEncoder(sparse=False)\n",
    "\n",
    "# Beachten sie den shape der Eingabe zu enc.fit: (4,1)!\n",
    "enc.fit( y )\n",
    "\n",
    "print(\"\\nShape von der Daten: \\n\", y.shape)\n",
    "print(\"\\nKategorien         : \\n\", enc.categories_) # Note: Typ ist Liste!\n",
    "\n",
    "# Transformieren eines Wertes\n",
    "#print(\"\\nOne-Hot-Encoding von ['virginica'] : \\n\", enc.transform( [['virginica'], ['setosa']] ) )\n",
    "print(\"\\nOne-Hot-Encoding von ['virginica'] : \\n\", enc.transform( y ) )"
   ]
  },
  {
   "cell_type": "markdown",
   "metadata": {},
   "source": [
    "Zwei Features"
   ]
  },
  {
   "cell_type": "code",
   "execution_count": 40,
   "metadata": {},
   "outputs": [
    {
     "name": "stdout",
     "output_type": "stream",
     "text": [
      "\n",
      "Kategorien: \n",
      " [array(['A', 'B'], dtype='<U1'), array(['A', 'B', 'Z'], dtype='<U1')]\n",
      "\n",
      "One-Hot-Encoding von [A,Z] : \n",
      " [[1. 0. 0. 0. 1.]]\n"
     ]
    }
   ],
   "source": [
    "from sklearn.preprocessing import OneHotEncoder\n",
    "\n",
    "y = np.array([\n",
    "    ['A','B'], \n",
    "    ['B','A'], \n",
    "    ['A','Z'], \n",
    "    ['B','Z'], \n",
    "    ['A','Z']\n",
    "    ])\n",
    "\n",
    "\n",
    "enc = OneHotEncoder(sparse=False)\n",
    "\n",
    "# Beachten sie den shape der Eingabe zu enc.fit: (4,2)!\n",
    "enc.fit( y )\n",
    "\n",
    "print(\"\\nKategorien: \\n\", enc.categories_)\n",
    "\n",
    "# Transformieren eines Wertes - Beachten sie den shape!\n",
    "print(\"\\nOne-Hot-Encoding von [A,Z] : \\n\", enc.transform( [['A','Z']] ) )"
   ]
  },
  {
   "cell_type": "markdown",
   "metadata": {},
   "source": []
  },
  {
   "cell_type": "code",
   "execution_count": null,
   "metadata": {},
   "outputs": [],
   "source": []
  }
 ],
 "metadata": {
  "interpreter": {
   "hash": "81794d4967e6c3204c66dcd87b604927b115b27c00565d3d43f05ba2f3a2cb0d"
  },
  "kernelspec": {
   "display_name": "Python 3.9.6 64-bit",
   "language": "python",
   "name": "python3"
  },
  "language_info": {
   "codemirror_mode": {
    "name": "ipython",
    "version": 3
   },
   "file_extension": ".py",
   "mimetype": "text/x-python",
   "name": "python",
   "nbconvert_exporter": "python",
   "pygments_lexer": "ipython3",
   "version": "3.9.6"
  },
  "orig_nbformat": 4
 },
 "nbformat": 4,
 "nbformat_minor": 2
}
