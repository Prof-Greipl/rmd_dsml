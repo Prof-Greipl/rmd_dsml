{
 "cells": [
  {
   "cell_type": "markdown",
   "metadata": {},
   "source": [
    "# Beispiel"
   ]
  },
  {
   "cell_type": "code",
   "execution_count": 12,
   "metadata": {},
   "outputs": [
    {
     "name": "stdout",
     "output_type": "stream",
     "text": [
      "\n",
      " -------- Data\n",
      "                       Name  Age  Gender\n",
      "0   Braund, Mr. Owen Harris   22    male\n",
      "1  Allen, Mr. William Henry   62    male\n",
      "2  Bonnell, Miss. Elizabeth   58  female\n",
      "3                Petty, Tom   26  female\n",
      "\n",
      " -------- Head\n",
      "                       Name  Age Gender\n",
      "0   Braund, Mr. Owen Harris   22   male\n",
      "1  Allen, Mr. William Henry   62   male\n",
      "\n",
      " -------- Tail\n",
      "         Name  Age  Gender\n",
      "3  Petty, Tom   26  female\n",
      "Anzahl der Zeilen :  4\n",
      "Shape             :  (4, 3)\n",
      "Columns :\n",
      "Index(['Name', 'Age', 'Gender'], dtype='object')\n",
      "Index :\n",
      "RangeIndex(start=0, stop=4, step=1)\n"
     ]
    }
   ],
   "source": [
    "import pandas as pd\n",
    "df = pd.DataFrame({\n",
    "   \"Name\": [\"Braund, Mr. Owen Harris\",\n",
    "            \"Allen, Mr. William Henry\",\n",
    "          \"Bonnell, Miss. Elizabeth\",\n",
    "          \"Petty, Tom\"],\n",
    "    \"Age\": [22, 62, 58, 26],\n",
    "   \"Gender\": [\"male\", \"male\", \"female\", \"female\"]}\n",
    "  )\n",
    "\n",
    "# Dataframe-Informationen ausgeben\n",
    "print( \"\\n -------- Data\")\n",
    "print( df )\n",
    "print( \"\\n -------- Head\")\n",
    "print( df.head(2) )\n",
    "print( \"\\n -------- Tail\")\n",
    "print( df.tail(1) )\n",
    "print( \"Anzahl der Zeilen : \", len(df))\n",
    "print( \"Shape             : \", df.shape)\n",
    "print( \"Columns :\" )\n",
    "print( df.columns )\n",
    "print( \"Index :\" )\n",
    "print( df.index )\n",
    "\n"
   ]
  },
  {
   "cell_type": "markdown",
   "metadata": {},
   "source": [
    "# Überblick verschaffen"
   ]
  },
  {
   "cell_type": "code",
   "execution_count": 11,
   "metadata": {},
   "outputs": [
    {
     "name": "stdout",
     "output_type": "stream",
     "text": [
      "\n",
      " Head:\n",
      "                       Name  Age Gender\n",
      "0   Braund, Mr. Owen Harris   22   male\n",
      "1  Allen, Mr. William Henry   62   male\n",
      "\n",
      " Tail:\n",
      "         Name  Age  Gender\n",
      "3  Petty, Tom   26  female\n",
      "Anzahl der Zeilen :  4\n",
      "Shape             :  (4, 3)\n"
     ]
    },
    {
     "data": {
      "text/html": [
       "<div>\n",
       "<style scoped>\n",
       "    .dataframe tbody tr th:only-of-type {\n",
       "        vertical-align: middle;\n",
       "    }\n",
       "\n",
       "    .dataframe tbody tr th {\n",
       "        vertical-align: top;\n",
       "    }\n",
       "\n",
       "    .dataframe thead th {\n",
       "        text-align: right;\n",
       "    }\n",
       "</style>\n",
       "<table border=\"1\" class=\"dataframe\">\n",
       "  <thead>\n",
       "    <tr style=\"text-align: right;\">\n",
       "      <th></th>\n",
       "      <th>Age</th>\n",
       "    </tr>\n",
       "  </thead>\n",
       "  <tbody>\n",
       "    <tr>\n",
       "      <th>count</th>\n",
       "      <td>4.000000</td>\n",
       "    </tr>\n",
       "    <tr>\n",
       "      <th>mean</th>\n",
       "      <td>42.000000</td>\n",
       "    </tr>\n",
       "    <tr>\n",
       "      <th>std</th>\n",
       "      <td>20.912516</td>\n",
       "    </tr>\n",
       "    <tr>\n",
       "      <th>min</th>\n",
       "      <td>22.000000</td>\n",
       "    </tr>\n",
       "    <tr>\n",
       "      <th>25%</th>\n",
       "      <td>25.000000</td>\n",
       "    </tr>\n",
       "    <tr>\n",
       "      <th>50%</th>\n",
       "      <td>42.000000</td>\n",
       "    </tr>\n",
       "    <tr>\n",
       "      <th>75%</th>\n",
       "      <td>59.000000</td>\n",
       "    </tr>\n",
       "    <tr>\n",
       "      <th>max</th>\n",
       "      <td>62.000000</td>\n",
       "    </tr>\n",
       "  </tbody>\n",
       "</table>\n",
       "</div>"
      ],
      "text/plain": [
       "             Age\n",
       "count   4.000000\n",
       "mean   42.000000\n",
       "std    20.912516\n",
       "min    22.000000\n",
       "25%    25.000000\n",
       "50%    42.000000\n",
       "75%    59.000000\n",
       "max    62.000000"
      ]
     },
     "execution_count": 11,
     "metadata": {},
     "output_type": "execute_result"
    }
   ],
   "source": [
    "import pandas as pd\n",
    "df = pd.DataFrame({\n",
    "   \"Name\": [\"Braund, Mr. Owen Harris\",\n",
    "            \"Allen, Mr. William Henry\",\n",
    "          \"Bonnell, Miss. Elizabeth\",\n",
    "          \"Petty, Tom\"],\n",
    "    \"Age\": [22, 62, 58, 26],\n",
    "   \"Gender\": [\"male\", \"male\", \"female\", \"female\"]}\n",
    "  )\n",
    "\n",
    "print( \"\\n Head:\")\n",
    "print( df.head(2) )\n",
    "\n",
    "print( \"\\n Tail:\")\n",
    "print( df.tail(1) )\n",
    "\n",
    "print( \"Anzahl der Zeilen : \", len(df))\n",
    "print( \"Shape             : \", df.shape)\n",
    "df.describe()"
   ]
  },
  {
   "cell_type": "code",
   "execution_count": 14,
   "metadata": {},
   "outputs": [
    {
     "name": "stdout",
     "output_type": "stream",
     "text": [
      "   Age  Gender\n",
      "0   22    male\n",
      "1   62    male\n",
      "2   58  female\n",
      "3   26  female\n"
     ]
    }
   ],
   "source": [
    "import pandas as pd\n",
    "df = pd.DataFrame({\n",
    "   \"Name\": [\"Braund, Mr. Owen Harris\",\n",
    "            \"Allen, Mr. William Henry\",\n",
    "          \"Bonnell, Miss. Elizabeth\",\n",
    "          \"Petty, Tom\"],\n",
    "    \"Age\": [22, 62, 58, 26],\n",
    "   \"Gender\": [\"male\", \"male\", \"female\", \"female\"]}\n",
    "  )\n",
    "\n",
    "teil_df = df[[\"Age\", \"Gender\"]]\n",
    "print ( teil_df )"
   ]
  },
  {
   "cell_type": "markdown",
   "metadata": {},
   "source": [
    "# Spalte auswählen"
   ]
  },
  {
   "cell_type": "code",
   "execution_count": 18,
   "metadata": {},
   "outputs": [
    {
     "name": "stdout",
     "output_type": "stream",
     "text": [
      "0    22\n",
      "1    62\n",
      "2    58\n",
      "3    26\n",
      "Name: Age, dtype: int64\n",
      "<class 'pandas.core.series.Series'>\n"
     ]
    }
   ],
   "source": [
    "import pandas as pd\n",
    "df = pd.DataFrame({\n",
    "   \"Name\": [\"Braund, Mr. Owen Harris\",\n",
    "            \"Allen, Mr. William Henry\",\n",
    "          \"Bonnell, Miss. Elizabeth\",\n",
    "          \"Petty, Tom\"],\n",
    "    \"Age\": [22, 62, 58, 26],\n",
    "   \"Gender\": [\"male\", \"male\", \"female\", \"female\"]}\n",
    "  )\n",
    "\n",
    "spalte = df[\"Age\"]\n",
    "print ( spalte)\n",
    "print( type( spalte ) )"
   ]
  },
  {
   "cell_type": "markdown",
   "metadata": {},
   "source": [
    "# Teil-Dataframe erzeugen"
   ]
  },
  {
   "cell_type": "code",
   "execution_count": 19,
   "metadata": {},
   "outputs": [
    {
     "name": "stdout",
     "output_type": "stream",
     "text": [
      "   Age  Gender\n",
      "0   22    male\n",
      "1   62    male\n",
      "2   58  female\n",
      "3   26  female\n",
      "<class 'pandas.core.frame.DataFrame'>\n"
     ]
    }
   ],
   "source": [
    "import pandas as pd\n",
    "df = pd.DataFrame({\n",
    "   \"Name\": [\"Braund, Mr. Owen Harris\",\n",
    "            \"Allen, Mr. William Henry\",\n",
    "          \"Bonnell, Miss. Elizabeth\",\n",
    "          \"Petty, Tom\"],\n",
    "    \"Age\": [22, 62, 58, 26],\n",
    "   \"Gender\": [\"male\", \"male\", \"female\", \"female\"]}\n",
    "  )\n",
    "\n",
    "df_teil = df[ [\"Age\", \"Gender\"] ]# <--\n",
    "print ( df_teil )\n",
    "print( type( df_teil ) )"
   ]
  },
  {
   "cell_type": "markdown",
   "metadata": {},
   "source": [
    "# Unique Values"
   ]
  },
  {
   "cell_type": "code",
   "execution_count": 16,
   "metadata": {},
   "outputs": [
    {
     "name": "stdout",
     "output_type": "stream",
     "text": [
      "<class 'pandas.core.series.Series'>\n"
     ]
    }
   ],
   "source": [
    "\n",
    "df.nunique()\n",
    "print( type (df.nunique() ) )"
   ]
  },
  {
   "cell_type": "markdown",
   "metadata": {},
   "source": [
    "# df -> numpy"
   ]
  },
  {
   "cell_type": "code",
   "execution_count": 21,
   "metadata": {},
   "outputs": [
    {
     "name": "stdout",
     "output_type": "stream",
     "text": [
      "[22 62 58 26]\n",
      "Type  :  <class 'numpy.ndarray'>\n",
      "Shape :  (4,)\n"
     ]
    }
   ],
   "source": [
    "import pandas as pd\n",
    "df = pd.DataFrame({\n",
    "   \"Name\": [\"Braund, Mr. Owen Harris\",\n",
    "            \"Allen, Mr. William Henry\",\n",
    "          \"Bonnell, Miss. Elizabeth\",\n",
    "          \"Petty, Tom\"],\n",
    "    \"Age\": [22, 62, 58, 26],\n",
    "   \"Gender\": [\"male\", \"male\", \"female\", \"female\"]}\n",
    "  )\n",
    "\n",
    "arr = df.to_numpy() # geht auch mit Series!\n",
    "print( arr )\n",
    "print(\"Type  : \", type(arr))\n",
    "print(\"Shape : \", arr.shape)"
   ]
  },
  {
   "cell_type": "markdown",
   "metadata": {},
   "source": [
    "# Spaltennumane ändern"
   ]
  },
  {
   "cell_type": "code",
   "execution_count": 5,
   "metadata": {},
   "outputs": [
    {
     "name": "stdout",
     "output_type": "stream",
     "text": [
      "                       Name  Age  Gender\n",
      "0   Braund, Mr. Owen Harris   22    male\n",
      "1  Allen, Mr. William Henry   62    male\n",
      "2  Bonnell, Miss. Elizabeth   58  female\n",
      " \n",
      "Nach Änderung : \n",
      "                   Nachname  Alter Geschlecht\n",
      "0   Braund, Mr. Owen Harris     22       male\n",
      "1  Allen, Mr. William Henry     62       male\n",
      "2  Bonnell, Miss. Elizabeth     58     female\n"
     ]
    }
   ],
   "source": [
    "import pandas as pd\n",
    "df = pd.DataFrame({\n",
    "   \"Name\": [\"Braund, Mr. Owen Harris\",\n",
    "            \"Allen, Mr. William Henry\",\n",
    "          \"Bonnell, Miss. Elizabeth\",\n",
    "          \"Petty, Tom\"],\n",
    "    \"Age\": [22, 62, 58, 26],\n",
    "   \"Gender\": [\"male\", \"male\", \"female\", \"female\"]}\n",
    "  )\n",
    "\n",
    "print( df.head(3) )\n",
    "\n",
    "df.columns=[\"Nachname\", \"Alter\", \"Geschlecht\"]  # <-- Änderung\n",
    "print(\" \\nNach Änderung : \")\n",
    "print( df.head(3) )"
   ]
  },
  {
   "cell_type": "code",
   "execution_count": null,
   "metadata": {},
   "outputs": [],
   "source": []
  }
 ],
 "metadata": {
  "interpreter": {
   "hash": "63fd5069d213b44bf678585dea6b12cceca9941eaf7f819626cde1f2670de90d"
  },
  "kernelspec": {
   "display_name": "Python 3.9.6 64-bit",
   "language": "python",
   "name": "python3"
  },
  "language_info": {
   "codemirror_mode": {
    "name": "ipython",
    "version": 3
   },
   "file_extension": ".py",
   "mimetype": "text/x-python",
   "name": "python",
   "nbconvert_exporter": "python",
   "pygments_lexer": "ipython3",
   "version": "3.9.6"
  },
  "orig_nbformat": 4
 },
 "nbformat": 4,
 "nbformat_minor": 2
}
