{
 "cells": [
  {
   "cell_type": "markdown",
   "metadata": {},
   "source": [
    "# Balkendiagramm (plt.bar)"
   ]
  },
  {
   "cell_type": "code",
   "execution_count": null,
   "metadata": {},
   "outputs": [],
   "source": [
    "import matplotlib.pyplot as plt\n",
    "import numpy as np\n",
    "\n",
    "# Daten erzeugen\n",
    "years = [\"1950\", \"1960\", \"1970\", \"1980\", \"1990\", \"2000\", \"2010\"]\n",
    "gdp = [33.2, 543.3, 1075.9, 2862.5, 5979.6, 10289.7, 14958.3]\n",
    "\n",
    "# Style auswählen\n",
    "plt.style.use('seaborn')\n",
    "\n",
    "# Leeren Graph erzeugen\n",
    "# figsize: Figure dimension (width, height) in inches.\n",
    "fig, ax = plt.subplots(figsize=(7, 3))\n",
    "\n",
    "#Achsen definieren\n",
    "ax.set_title(\"GDP Development\") \n",
    "ax.set_xlabel(\"Years\")\n",
    "ax.set_ylabel(\"GDP (in billion USD)\")\n",
    "ax.set_aspect('equal')\n",
    "\n",
    "ax.set(xlim=(0, 10), xticks=np.arange(0, 11),\n",
    "       ylim=(-1, 2), yticks=np.arange(0, 2))\n",
    "plt.bar(years, gdp)"
   ]
  },
  {
   "cell_type": "code",
   "execution_count": 5,
   "metadata": {},
   "outputs": [
    {
     "data": {
      "text/plain": [
       "<BarContainer object of 7 artists>"
      ]
     },
     "execution_count": 5,
     "metadata": {},
     "output_type": "execute_result"
    },
    {
     "data": {
      "image/png": "[encoded data removed]",
      "text/plain": [
       "<Figure size 504x216 with 1 Axes>"
      ]
     },
     "metadata": {},
     "output_type": "display_data"
    }
   ],
   "source": [
    "import matplotlib.pyplot as plt\n",
    "import numpy as np\n",
    "\n",
    "# Daten erzeugen\n",
    "years = [\"1950\", \"1960\", \"1970\", \"1980\", \"1990\", \"2000\", \"2010\"]\n",
    "gdp = [33.2, 543.3, 1075.9, 2862.5, 5979.6, 10289.7, 14958.3]\n",
    "\n",
    "# Style auswählen\n",
    "plt.style.use('seaborn')\n",
    "\n",
    "# Leeren Graph erzeugen\n",
    "# figsize: Figure dimension (width, height) in inches.\n",
    "fig, ax = plt.subplots(figsize=(7, 3))\n",
    "\n",
    "#Achsen definieren\n",
    "ax.set_title(\"GDP Development\") \n",
    "ax.set_xlabel(\"Years\")\n",
    "ax.set_ylabel(\"GDP (in billion USD)\")\n",
    "ax.set_aspect('equal')\n",
    "\n",
    "ax.set(xlim=(0, 10), xticks=np.arange(0, 11),\n",
    "       yticks=np.arange(0, 2))\n",
    "plt.bar(years, gdp)"
   ]
  },
  {
   "cell_type": "markdown",
   "metadata": {},
   "source": [
    "# Liniendiagramm"
   ]
  },
  {
   "cell_type": "code",
   "execution_count": 1,
   "metadata": {},
   "outputs": [
    {
     "data": {
      "image/png": "[encoded data removed]",
      "text/plain": [
       "<Figure size 504x216 with 1 Axes>"
      ]
     },
     "metadata": {},
     "output_type": "display_data"
    }
   ],
   "source": [
    "import matplotlib.pyplot as plt\n",
    "import numpy as np\n",
    "\n",
    "# Daten erzeugen\n",
    "x = [0,1,2,3,4,5,6,7,8,9,10]\n",
    "y = [0,1,0,1,0,1,0,1,0,1,0]\n",
    "\n",
    "# Style auswählen\n",
    "plt.style.use('seaborn')\n",
    "\n",
    "# Leeren Graph erzeugen\n",
    "# figsize: Figure dimension (width, height) in inches.\n",
    "fig, ax = plt.subplots(figsize=(7, 3))\n",
    "\n",
    "#Achsen definieren\n",
    "ax.set_title(\"Title\") \n",
    "ax.set_xlabel(\"x-axis\")\n",
    "ax.set_ylabel(\"y-axis\")\n",
    "ax.set_aspect('equal')\n",
    "\n",
    "ax.set(xlim=(0, 10), xticks=np.arange(0, 11),\n",
    "       ylim=(-1, 2), yticks=np.arange(0, 2))\n",
    "\n",
    "#Plotten\n",
    "z = ax.plot(x, y, linewidth=2.0)\n",
    "\n",
    "#Anzeigen\n",
    "plt.show()"
   ]
  },
  {
   "cell_type": "code",
   "execution_count": null,
   "metadata": {},
   "outputs": [],
   "source": []
  }
 ],
 "metadata": {
  "interpreter": {
   "hash": "63fd5069d213b44bf678585dea6b12cceca9941eaf7f819626cde1f2670de90d"
  },
  "kernelspec": {
   "display_name": "Python 3.9.6 64-bit",
   "language": "python",
   "name": "python3"
  },
  "language_info": {
   "codemirror_mode": {
    "name": "ipython",
    "version": 3
   },
   "file_extension": ".py",
   "mimetype": "text/x-python",
   "name": "python",
   "nbconvert_exporter": "python",
   "pygments_lexer": "ipython3",
   "version": "3.9.6"
  },
  "orig_nbformat": 4
 },
 "nbformat": 4,
 "nbformat_minor": 2
}
